{
 "cells": [
  {
   "cell_type": "code",
   "execution_count": 1,
   "id": "db14dbb5-90c2-40df-b3d7-48c2f38b86fa",
   "metadata": {},
   "outputs": [],
   "source": [
    "import pandas as pd"
   ]
  },
  {
   "cell_type": "code",
   "execution_count": 2,
   "id": "43da9540-1fb6-4654-bdb9-b839c50e4901",
   "metadata": {},
   "outputs": [],
   "source": [
    "file_path = \"Dataset.csv\"\n",
    "df = pd.read_csv(file_path)"
   ]
  },
  {
   "cell_type": "code",
   "execution_count": 3,
   "id": "a24d3018-8213-4989-a004-24ffef0b5741",
   "metadata": {},
   "outputs": [
    {
     "name": "stdout",
     "output_type": "stream",
     "text": [
      "<class 'pandas.core.frame.DataFrame'>\n",
      "RangeIndex: 2009 entries, 0 to 2008\n",
      "Data columns (total 16 columns):\n",
      " #   Column      Non-Null Count  Dtype  \n",
      "---  ------      --------------  -----  \n",
      " 0   City        2009 non-null   object \n",
      " 1   Date        2009 non-null   object \n",
      " 2   PM2.5       1863 non-null   float64\n",
      " 3   PM10        1649 non-null   float64\n",
      " 4   NO          2003 non-null   float64\n",
      " 5   NO2         2003 non-null   float64\n",
      " 6   NOx         2005 non-null   float64\n",
      " 7   NH3         1806 non-null   float64\n",
      " 8   CO          1998 non-null   float64\n",
      " 9   SO2         2003 non-null   float64\n",
      " 10  O3          1865 non-null   float64\n",
      " 11  Benzene     1743 non-null   float64\n",
      " 12  Toluene     1916 non-null   float64\n",
      " 13  Xylene      0 non-null      float64\n",
      " 14  AQI         1910 non-null   float64\n",
      " 15  AQI_Bucket  1910 non-null   object \n",
      "dtypes: float64(13), object(3)\n",
      "memory usage: 251.3+ KB\n"
     ]
    },
    {
     "data": {
      "text/plain": [
       "(None,\n",
       "         City      Date  PM2.5  PM10     NO    NO2    NOx    NH3     CO    SO2  \\\n",
       " 0  Bengaluru  1/1/2015    NaN   NaN   3.26  17.33  10.88  20.36   0.33   3.54   \n",
       " 1  Bengaluru  1/2/2015    NaN   NaN   6.05  19.73  14.14  23.74   1.35   3.97   \n",
       " 2  Bengaluru  1/3/2015    NaN   NaN  11.91  19.88  20.72   4.32  17.40  13.61   \n",
       " 3  Bengaluru  1/4/2015    NaN   NaN   7.45  21.61  16.88   0.87   5.05   6.52   \n",
       " 4  Bengaluru  1/5/2015    NaN   NaN   9.52  22.17  21.76  31.38   1.83   4.71   \n",
       " \n",
       "       O3  Benzene  Toluene  Xylene  AQI AQI_Bucket  \n",
       " 0  10.73     0.56     4.64     NaN  NaN        NaN  \n",
       " 1  22.77     0.65     5.31     NaN  NaN        NaN  \n",
       " 2  12.03     0.53    19.25     NaN  NaN        NaN  \n",
       " 3  17.70     0.55     7.47     NaN  NaN        NaN  \n",
       " 4  12.72     0.40     4.36     NaN  NaN        NaN  )"
      ]
     },
     "execution_count": 3,
     "metadata": {},
     "output_type": "execute_result"
    }
   ],
   "source": [
    "df.info(), df.head()"
   ]
  },
  {
   "cell_type": "code",
   "execution_count": 4,
   "id": "3b13365c-4ee7-4f38-a306-c0fca4c544fe",
   "metadata": {},
   "outputs": [],
   "source": [
    "df['Date'] = pd.to_datetime(df['Date'])"
   ]
  },
  {
   "cell_type": "code",
   "execution_count": 5,
   "id": "a1fd9219-1f9d-4743-85fa-c7fc74e5af16",
   "metadata": {},
   "outputs": [],
   "source": [
    "df.drop(columns=['Xylene'], inplace=True)"
   ]
  },
  {
   "cell_type": "code",
   "execution_count": 6,
   "id": "79ecd9d0-69de-46fa-993e-76851ac20f94",
   "metadata": {},
   "outputs": [],
   "source": [
    "num_cols = df.select_dtypes(include=['float64']).columns\n",
    "df[num_cols] = df[num_cols].apply(lambda x: x.fillna(x.mean()))"
   ]
  },
  {
   "cell_type": "code",
   "execution_count": 7,
   "id": "3c24c356-faaa-482b-910a-9dc3af3e0218",
   "metadata": {},
   "outputs": [],
   "source": [
    "df.loc[:, 'AQI_Bucket'] = df['AQI_Bucket'].fillna(df['AQI_Bucket'].mode()[0])"
   ]
  },
  {
   "cell_type": "code",
   "execution_count": 8,
   "id": "6dd94a34-b500-4a06-9bdd-d63e3b2c8a42",
   "metadata": {},
   "outputs": [],
   "source": [
    "df.drop_duplicates(inplace=True)"
   ]
  },
  {
   "cell_type": "code",
   "execution_count": 9,
   "id": "22adc8b3-95bf-4b55-86a3-6b95ac23534c",
   "metadata": {},
   "outputs": [
    {
     "name": "stdout",
     "output_type": "stream",
     "text": [
      "<class 'pandas.core.frame.DataFrame'>\n",
      "RangeIndex: 2009 entries, 0 to 2008\n",
      "Data columns (total 15 columns):\n",
      " #   Column      Non-Null Count  Dtype         \n",
      "---  ------      --------------  -----         \n",
      " 0   City        2009 non-null   object        \n",
      " 1   Date        2009 non-null   datetime64[ns]\n",
      " 2   PM2.5       2009 non-null   float64       \n",
      " 3   PM10        2009 non-null   float64       \n",
      " 4   NO          2009 non-null   float64       \n",
      " 5   NO2         2009 non-null   float64       \n",
      " 6   NOx         2009 non-null   float64       \n",
      " 7   NH3         2009 non-null   float64       \n",
      " 8   CO          2009 non-null   float64       \n",
      " 9   SO2         2009 non-null   float64       \n",
      " 10  O3          2009 non-null   float64       \n",
      " 11  Benzene     2009 non-null   float64       \n",
      " 12  Toluene     2009 non-null   float64       \n",
      " 13  AQI         2009 non-null   float64       \n",
      " 14  AQI_Bucket  2009 non-null   object        \n",
      "dtypes: datetime64[ns](1), float64(12), object(2)\n",
      "memory usage: 235.6+ KB\n"
     ]
    },
    {
     "data": {
      "text/plain": [
       "(None,\n",
       "         City       Date      PM2.5       PM10     NO    NO2    NOx    NH3  \\\n",
       " 0  Bengaluru 2015-01-01  35.819828  83.243287   3.26  17.33  10.88  20.36   \n",
       " 1  Bengaluru 2015-01-02  35.819828  83.243287   6.05  19.73  14.14  23.74   \n",
       " 2  Bengaluru 2015-01-03  35.819828  83.243287  11.91  19.88  20.72   4.32   \n",
       " 3  Bengaluru 2015-01-04  35.819828  83.243287   7.45  21.61  16.88   0.87   \n",
       " 4  Bengaluru 2015-01-05  35.819828  83.243287   9.52  22.17  21.76  31.38   \n",
       " \n",
       "       CO    SO2     O3  Benzene  Toluene        AQI    AQI_Bucket  \n",
       " 0   0.33   3.54  10.73     0.56     4.64  94.318325  Satisfactory  \n",
       " 1   1.35   3.97  22.77     0.65     5.31  94.318325  Satisfactory  \n",
       " 2  17.40  13.61  12.03     0.53    19.25  94.318325  Satisfactory  \n",
       " 3   5.05   6.52  17.70     0.55     7.47  94.318325  Satisfactory  \n",
       " 4   1.83   4.71  12.72     0.40     4.36  94.318325  Satisfactory  )"
      ]
     },
     "execution_count": 9,
     "metadata": {},
     "output_type": "execute_result"
    }
   ],
   "source": [
    "df.info(), df.head()"
   ]
  },
  {
   "cell_type": "code",
   "execution_count": 10,
   "id": "195e4d19-7258-4ca1-be23-fee07e3d89f5",
   "metadata": {},
   "outputs": [
    {
     "data": {
      "text/plain": [
       "City          0\n",
       "Date          0\n",
       "PM2.5         0\n",
       "PM10          0\n",
       "NO            0\n",
       "NO2           0\n",
       "NOx           0\n",
       "NH3           0\n",
       "CO            0\n",
       "SO2           0\n",
       "O3            0\n",
       "Benzene       0\n",
       "Toluene       0\n",
       "AQI           0\n",
       "AQI_Bucket    0\n",
       "dtype: int64"
      ]
     },
     "execution_count": 10,
     "metadata": {},
     "output_type": "execute_result"
    }
   ],
   "source": [
    "df.isnull().sum()"
   ]
  },
  {
   "cell_type": "code",
   "execution_count": null,
   "id": "3ab91ede-9e74-4fca-b6eb-a570bacb861f",
   "metadata": {},
   "outputs": [
    {
     "name": "stdout",
     "output_type": "stream",
     "text": [
      "Missing values after preprocessing:\n",
      "City          0\n",
      "Date          0\n",
      "PM2.5         0\n",
      "PM10          0\n",
      "NO            0\n",
      "NO2           0\n",
      "NOx           0\n",
      "NH3           0\n",
      "CO            0\n",
      "SO2           0\n",
      "O3            0\n",
      "Benzene       0\n",
      "Toluene       0\n",
      "AQI           0\n",
      "AQI_Bucket    0\n",
      "dtype: int64\n"
     ]
    }
   ],
   "source": [
    "# Verify no missing values remain\n",
    "print(\"Missing values after preprocessing:\")\n",
    "print(df.isnull().sum())\n",
    "\n",
    "# Select features and target\n",
    "features = ['PM2.5', 'PM10', 'NO', 'NO2', 'NOx', 'NH3', 'CO', 'SO2', 'O3', 'Benzene', 'Toluene']\n",
    "target = 'AQI'\n",
    "\n",
    "# Filter data for Bangalore only\n",
    "bangalore_df = df[df['City'] == 'Bengaluru'].copy()  # Changed to 'Bengaluru'\n",
    "\n",
    "# Extract date components as features\n",
    "bangalore_df['Year'] = bangalore_df['Date'].dt.year\n",
    "bangalore_df['Month'] = bangalore_df['Date'].dt.month\n",
    "bangalore_df['Day'] = bangalore_df['Date'].dt.day\n",
    "\n",
    "# Final feature list including date components\n",
    "features.extend(['Year', 'Month', 'Day'])\n",
    "\n",
    "# Make variables global\n",
    "global df, bangalore_df, features, target, X_train_scaled, X_test_scaled, y_train, y_test, final_model"
   ]
  },
  {
   "cell_type": "code",
   "execution_count": 12,
   "id": "5efd1c14-2fd2-4233-8b12-73e3fc67da88",
   "metadata": {},
   "outputs": [
    {
     "name": "stdout",
     "output_type": "stream",
     "text": [
      "Cities available: ['Bengaluru']\n",
      "\n",
      "Found 2009 samples for Bengaluru\n",
      "\n",
      "Data ready for modeling!\n",
      "Training samples: 1607, Test samples: 402\n"
     ]
    }
   ],
   "source": [
    "from sklearn.model_selection import train_test_split  \n",
    "from sklearn.preprocessing import StandardScaler\n",
    "\n",
    "print(\"Cities available:\", df['City'].unique())\n",
    "bangalore_df = df[df['City'] == 'Bengaluru'].copy()\n",
    "\n",
    "if len(bangalore_df) == 0:\n",
    "    raise ValueError(\"No data found for 'Bengaluru'. Check your dataset.\")\n",
    "print(f\"\\nFound {len(bangalore_df)} samples for Bengaluru\")\n",
    "\n",
    "features = ['PM2.5', 'PM10', 'NO', 'NO2', 'NOx', 'NH3', 'CO', 'SO2', 'O3', 'Benzene', 'Toluene']\n",
    "target = 'AQI'\n",
    "\n",
    "bangalore_df['Year'] = bangalore_df['Date'].dt.year\n",
    "bangalore_df['Month'] = bangalore_df['Date'].dt.month\n",
    "bangalore_df['Day'] = bangalore_df['Date'].dt.day\n",
    "features.extend(['Year', 'Month', 'Day'])\n",
    "\n",
    "X = bangalore_df[features]\n",
    "y = bangalore_df[target]\n",
    "\n",
    "X_train, X_test, y_train, y_test = train_test_split(X, y, test_size=0.2, random_state=42)\n",
    "scaler = StandardScaler()\n",
    "X_train_scaled = scaler.fit_transform(X_train)\n",
    "X_test_scaled = scaler.transform(X_test)\n",
    "\n",
    "print(\"\\nData ready for modeling!\")\n",
    "print(f\"Training samples: {len(X_train)}, Test samples: {len(X_test)}\")"
   ]
  },
  {
   "cell_type": "code",
   "execution_count": 13,
   "id": "ae094802-bb3f-478f-a70e-bb8afcb1fba3",
   "metadata": {},
   "outputs": [],
   "source": [
    "import numpy as np\n",
    "\n",
    "class GreyWolfOptimizer:\n",
    "    def __init__(self, n_wolves=10, max_iter=100, dim=None, lb=None, ub=None):\n",
    "        self.n_wolves = n_wolves\n",
    "        self.max_iter = max_iter\n",
    "        self.dim = dim\n",
    "        self.lb = lb\n",
    "        self.ub = ub\n",
    "        self.alpha_pos = None\n",
    "        self.alpha_score = float('inf')\n",
    "        self.beta_pos = None\n",
    "        self.beta_score = float('inf')\n",
    "        self.delta_pos = None\n",
    "        self.delta_score = float('inf')\n",
    "        self.positions = None\n",
    "        \n",
    "    def initialize(self):\n",
    "        self.positions = np.random.uniform(self.lb, self.ub, (self.n_wolves, self.dim))\n",
    "        \n",
    "    def update_position(self, a):\n",
    "        for i in range(self.n_wolves):\n",
    "            for j in range(self.dim):\n",
    "                # Update A, C, D for alpha, beta, delta\n",
    "                r1, r2 = np.random.random(2)\n",
    "                A1 = 2 * a * r1 - a\n",
    "                C1 = 2 * r2\n",
    "                D_alpha = abs(C1 * self.alpha_pos[j] - self.positions[i,j])\n",
    "                X1 = self.alpha_pos[j] - A1 * D_alpha\n",
    "                \n",
    "                r1, r2 = np.random.random(2)\n",
    "                A2 = 2 * a * r1 - a\n",
    "                C2 = 2 * r2\n",
    "                D_beta = abs(C2 * self.beta_pos[j] - self.positions[i,j])\n",
    "                X2 = self.beta_pos[j] - A2 * D_beta\n",
    "                \n",
    "                r1, r2 = np.random.random(2)\n",
    "                A3 = 2 * a * r1 - a\n",
    "                C3 = 2 * r2\n",
    "                D_delta = abs(C3 * self.delta_pos[j] - self.positions[i,j])\n",
    "                X3 = self.delta_pos[j] - A3 * D_delta\n",
    "                \n",
    "                # Update position\n",
    "                self.positions[i,j] = (X1 + X2 + X3) / 3\n",
    "                \n",
    "                # Boundary check\n",
    "                self.positions[i,j] = np.clip(self.positions[i,j], self.lb, self.ub)\n",
    "    \n",
    "    def optimize(self, objective_func):\n",
    "        self.initialize()\n",
    "        \n",
    "        for iter in range(self.max_iter):\n",
    "            a = 2 - iter * (2 / self.max_iter)  # a decreases linearly from 2 to 0\n",
    "            \n",
    "            # Evaluate all wolves\n",
    "            scores = np.array([objective_func(pos) for pos in self.positions])\n",
    "            \n",
    "            # Update alpha, beta, delta\n",
    "            for i in range(scores.shape[0]):\n",
    "                if scores[i] < self.alpha_score:\n",
    "                    self.alpha_score = scores[i]\n",
    "                    self.alpha_pos = self.positions[i].copy()\n",
    "                elif scores[i] < self.beta_score:\n",
    "                    self.beta_score = scores[i]\n",
    "                    self.beta_pos = self.positions[i].copy()\n",
    "                elif scores[i] < self.delta_score:\n",
    "                    self.delta_score = scores[i]\n",
    "                    self.delta_pos = self.positions[i].copy()\n",
    "            \n",
    "            # Update positions\n",
    "            self.update_position(a)\n",
    "            \n",
    "            if iter % 10 == 0:\n",
    "                print(f'Iteration {iter}: Best Score = {self.alpha_score}')\n",
    "        \n",
    "        return self.alpha_pos, self.alpha_score"
   ]
  },
  {
   "cell_type": "code",
   "execution_count": 14,
   "id": "849a85af-1e78-4bd5-9cee-6783956341f1",
   "metadata": {},
   "outputs": [
    {
     "name": "stdout",
     "output_type": "stream",
     "text": [
      "Iteration 0: Best Score = 564.3193440777749\n",
      "Iteration 10: Best Score = 564.2365030220259\n",
      "Iteration 20: Best Score = 564.1311641840073\n",
      "Iteration 30: Best Score = 564.1311641840073\n",
      "Iteration 40: Best Score = 564.0342459377646\n",
      "Best weights: [1.69877682 1.79297241 0.33341665 0.76173449 0.66044856 0.30770399\n",
      " 1.6853118  1.29604716 0.78141297 0.8368973  2.         1.73553914\n",
      " 1.81743473 1.27849602]\n",
      "Best MSE: 564.0342459377646\n"
     ]
    }
   ],
   "source": [
    "from sklearn.metrics import mean_squared_error\n",
    "from sklearn.ensemble import RandomForestRegressor\n",
    "\n",
    "# Define objective function for GWO\n",
    "def objective_function(position):\n",
    "    # Position represents feature weights\n",
    "    weighted_X_train = X_train_scaled * position\n",
    "    weighted_X_test = X_test_scaled * position\n",
    "    \n",
    "    model = RandomForestRegressor(n_estimators=100, random_state=42)\n",
    "    model.fit(weighted_X_train, y_train)\n",
    "    \n",
    "    y_pred = model.predict(weighted_X_test)\n",
    "    return mean_squared_error(y_test, y_pred)\n",
    "\n",
    "# Initialize and run GWO\n",
    "dim = X_train_scaled.shape[1]\n",
    "lb = 0.1  # Lower bound for feature weights\n",
    "ub = 2.0  # Upper bound for feature weights\n",
    "\n",
    "gwo = GreyWolfOptimizer(n_wolves=15, max_iter=50, dim=dim, lb=lb, ub=ub)\n",
    "best_weights, best_score = gwo.optimize(objective_function)\n",
    "\n",
    "print(f\"Best weights: {best_weights}\")\n",
    "print(f\"Best MSE: {best_score}\")"
   ]
  },
  {
   "cell_type": "code",
   "execution_count": 15,
   "id": "8a4994d4-08ef-498d-a68a-5273d8dfdb2f",
   "metadata": {},
   "outputs": [
    {
     "name": "stdout",
     "output_type": "stream",
     "text": [
      "Final Model MSE: 556.2699502375515\n",
      "\n",
      "Feature Importance:\n",
      "    Feature  Importance\n",
      "6        CO    0.240157\n",
      "1      PM10    0.228565\n",
      "0     PM2.5    0.210557\n",
      "8        O3    0.060101\n",
      "2        NO    0.043860\n",
      "7       SO2    0.043231\n",
      "4       NOx    0.038394\n",
      "3       NO2    0.029197\n",
      "5       NH3    0.023557\n",
      "10  Toluene    0.023354\n",
      "9   Benzene    0.022127\n",
      "13      Day    0.016563\n",
      "12    Month    0.014702\n",
      "11     Year    0.005633\n"
     ]
    }
   ],
   "source": [
    "# Apply best weights to features\n",
    "X_train_weighted = X_train_scaled * best_weights\n",
    "X_test_weighted = X_test_scaled * best_weights\n",
    "\n",
    "# Train final model\n",
    "final_model = RandomForestRegressor(n_estimators=200, random_state=42)\n",
    "final_model.fit(X_train_weighted, y_train)\n",
    "\n",
    "# Evaluate\n",
    "y_pred = final_model.predict(X_test_weighted)\n",
    "mse = mean_squared_error(y_test, y_pred)\n",
    "print(f\"Final Model MSE: {mse}\")\n",
    "\n",
    "# Feature importance\n",
    "importances = final_model.feature_importances_\n",
    "feature_importance = pd.DataFrame({'Feature': features, 'Importance': importances})\n",
    "feature_importance = feature_importance.sort_values('Importance', ascending=False)\n",
    "print(\"\\nFeature Importance:\")\n",
    "print(feature_importance)\n",
    "\n",
    "# Make final_model global (ADD THIS LINE AT THE END)\n",
    "global final_model"
   ]
  },
  {
   "cell_type": "code",
   "execution_count": 16,
   "id": "f1da76c2-8647-490a-a6c8-4aa14a0ba88f",
   "metadata": {},
   "outputs": [
    {
     "name": "stdout",
     "output_type": "stream",
     "text": [
      "Predicted AQI for 2025-05-15: 84.15 (Satisfactory)\n"
     ]
    }
   ],
   "source": [
    "def predict_aqi(future_date):\n",
    "    # Create feature vector for the future date\n",
    "    future_date = pd.to_datetime(future_date)\n",
    "    future_features = {\n",
    "        'Year': future_date.year,\n",
    "        'Month': future_date.month,\n",
    "        'Day': future_date.day,\n",
    "    }\n",
    "    \n",
    "    # For pollutants, use the median values from historical data\n",
    "    for feature in features:\n",
    "        if feature not in future_features:\n",
    "            future_features[feature] = bangalore_df[feature].median()\n",
    "    \n",
    "    # Create DataFrame and scale\n",
    "    future_df = pd.DataFrame([future_features])[features]\n",
    "    future_scaled = scaler.transform(future_df)\n",
    "    future_weighted = future_scaled * best_weights\n",
    "    \n",
    "    # Predict\n",
    "    aqi_pred = final_model.predict(future_weighted)[0]\n",
    "    \n",
    "    # Predict AQI Bucket (simplified version)\n",
    "    if aqi_pred <= 50:\n",
    "        bucket = \"Good\"\n",
    "    elif aqi_pred <= 100:\n",
    "        bucket = \"Satisfactory\"\n",
    "    elif aqi_pred <= 200:\n",
    "        bucket = \"Moderate\"\n",
    "    elif aqi_pred <= 300:\n",
    "        bucket = \"Poor\"\n",
    "    elif aqi_pred <= 400:\n",
    "        bucket = \"Very Poor\"\n",
    "    else:\n",
    "        bucket = \"Severe\"\n",
    "    \n",
    "    return aqi_pred, bucket\n",
    "\n",
    "# Example prediction\n",
    "future_date = \"2025-05-15\"\n",
    "aqi, bucket = predict_aqi(future_date)\n",
    "print(f\"Predicted AQI for {future_date}: {aqi:.2f} ({bucket})\")"
   ]
  },
  {
   "cell_type": "code",
   "execution_count": 17,
   "id": "fbf97ac6-8d15-47d0-a5c7-5e9739ed7481",
   "metadata": {},
   "outputs": [
    {
     "data": {
      "image/png": "[encoded data removed]",
      "text/plain": [
       "<Figure size 1000x600 with 1 Axes>"
      ]
     },
     "metadata": {},
     "output_type": "display_data"
    },
    {
     "data": {
      "image/png": "[encoded data removed]",
      "text/plain": [
       "<Figure size 1000x600 with 1 Axes>"
      ]
     },
     "metadata": {},
     "output_type": "display_data"
    }
   ],
   "source": [
    "import matplotlib.pyplot as plt\n",
    "\n",
    "# Plot actual vs predicted\n",
    "plt.figure(figsize=(10, 6))\n",
    "plt.scatter(y_test, y_pred, alpha=0.5)\n",
    "plt.plot([y.min(), y.max()], [y.min(), y.max()], 'k--', lw=2)\n",
    "plt.xlabel('Actual AQI')\n",
    "plt.ylabel('Predicted AQI')\n",
    "plt.title('Actual vs Predicted AQI')\n",
    "plt.show()\n",
    "\n",
    "# Plot feature importance\n",
    "plt.figure(figsize=(10, 6))\n",
    "plt.barh(feature_importance['Feature'], feature_importance['Importance'])\n",
    "plt.xlabel('Importance')\n",
    "plt.title('Feature Importance')\n",
    "plt.gca().invert_yaxis()\n",
    "plt.show()"
   ]
  },
  {
   "cell_type": "code",
   "execution_count": 18,
   "id": "d069c4cc-900b-4fd4-878c-75113a347747",
   "metadata": {},
   "outputs": [
    {
     "name": "stdout",
     "output_type": "stream",
     "text": [
      "Model Accuracy:\n",
      "- MAE: 13.91\n",
      "- R²: 0.67 (1.0 is perfect)\n",
      "\n",
      "Sample Predictions vs Actual:\n",
      "Actual: 106.0 | Predicted: 91.7\n",
      "Actual: 20.0 | Predicted: 54.3\n",
      "Actual: 175.0 | Predicted: 125.1\n",
      "Actual: 74.0 | Predicted: 76.4\n",
      "Actual: 123.0 | Predicted: 117.6\n"
     ]
    }
   ],
   "source": [
    "# Quick Model Evaluation (Run after your original cells)\n",
    "from sklearn.metrics import mean_absolute_error, r2_score\n",
    "\n",
    "# Get predictions\n",
    "y_pred = final_model.predict(X_test_weighted)\n",
    "\n",
    "# Calculate key metrics\n",
    "print(\"Model Accuracy:\")\n",
    "print(f\"- MAE: {mean_absolute_error(y_test, y_pred):.2f}\")\n",
    "print(f\"- R²: {r2_score(y_test, y_pred):.2f} (1.0 is perfect)\")\n",
    "\n",
    "# Sample comparison\n",
    "print(\"\\nSample Predictions vs Actual:\")\n",
    "for true, pred in zip(y_test[:5], y_pred[:5]):\n",
    "    print(f\"Actual: {true:.1f} | Predicted: {pred:.1f}\")"
   ]
  },
  {
   "cell_type": "code",
   "execution_count": 19,
   "id": "50fbd272-9cb4-4813-b463-eb42a41fc007",
   "metadata": {},
   "outputs": [
    {
     "name": "stdout",
     "output_type": "stream",
     "text": [
      "Predicted AQI for 2026-07-25: 81.30 (Satisfactory)\n"
     ]
    }
   ],
   "source": [
    "# Predict AQI for May 15, 2025\n",
    "future_date = \"2026-07-25\"\n",
    "aqi, bucket = predict_aqi(future_date)\n",
    "print(f\"Predicted AQI for {future_date}: {aqi:.2f} ({bucket})\")"
   ]
  },
  {
   "cell_type": "code",
   "execution_count": 20,
   "id": "dce95e66-e813-42ed-a0d6-2e54c24ab83b",
   "metadata": {},
   "outputs": [
    {
     "name": "stdout",
     "output_type": "stream",
     "text": [
      "2026-01-25: 91.43 (Satisfactory)\n",
      "2029-06-15: 83.68 (Satisfactory)\n",
      "2030-10-15: 84.43 (Satisfactory)\n"
     ]
    }
   ],
   "source": [
    "test_dates = [\"2026-01-25\", \"2029-06-15\", \"2030-10-15\"]\n",
    "for date in test_dates:\n",
    "    aqi, bucket = predict_aqi(date)\n",
    "    print(f\"{date}: {aqi:.2f} ({bucket})\")"
   ]
  },
  {
   "cell_type": "code",
   "execution_count": 21,
   "id": "826fef32-3709-4842-8d0d-77323af1fbb0",
   "metadata": {},
   "outputs": [
    {
     "name": "stdout",
     "output_type": "stream",
     "text": [
      "Predicted AQI for 2015-05-02: 87.54 (Satisfactory)\n"
     ]
    }
   ],
   "source": [
    "# Predict AQI for May 15, 2025\n",
    "future_date = \"2015-05-02\"\n",
    "aqi, bucket = predict_aqi(future_date)\n",
    "print(f\"Predicted AQI for {future_date}: {aqi:.2f} ({bucket})\")"
   ]
  },
  {
   "cell_type": "code",
   "execution_count": null,
   "id": "f429edbe-ca6b-47d0-931f-051496dd635d",
   "metadata": {},
   "outputs": [],
   "source": []
  }
 ],
 "metadata": {
  "kernelspec": {
   "display_name": "Python 3 (ipykernel)",
   "language": "python",
   "name": "python3"
  },
  "language_info": {
   "codemirror_mode": {
    "name": "ipython",
    "version": 3
   },
   "file_extension": ".py",
   "mimetype": "text/x-python",
   "name": "python",
   "nbconvert_exporter": "python",
   "pygments_lexer": "ipython3",
   "version": "3.12.4"
  }
 },
 "nbformat": 4,
 "nbformat_minor": 5
}
